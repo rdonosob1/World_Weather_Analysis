{
 "cells": [
  {
   "cell_type": "markdown",
   "metadata": {},
   "source": [
    "# Deliverable 3. Create a Travel Itinerary Map.\n",
    "----\n",
    "1. Import the vacation CSV file. \n",
    "2. From the map above with pick 4 cities that are in close proximity (on the same continent) that the customer would travel to and create a directions layer map.\n",
    "3. For the \"travel_mode\" use either \"DRIVING\", \"BICYCLING\", or \"WALKING\".\n",
    "4. Take a screenshot of the route and save it. \n",
    "5. Then create a marker layer for the four cities. Each city will should have a pop-up marker that contains\n",
    "    - The hotel name\n",
    "    - The city\n",
    "    - The country\n",
    "    - The current weather description and the maximum temperature\n",
    "---"
   ]
  },
  {
   "cell_type": "markdown",
   "metadata": {},
   "source": [
    "## Make sure the initial dependencies and the Google API key are imported."
   ]
  },
  {
   "cell_type": "code",
   "execution_count": 1,
   "metadata": {},
   "outputs": [],
   "source": [
    "# Dependencies and Setup\n",
    "import pandas as pd\n",
    "import requests\n",
    "import gmaps\n",
    "import gmaps.datasets\n",
    "\n",
    "# Import API key\n",
    "from config import g_key"
   ]
  },
  {
   "cell_type": "code",
   "execution_count": 2,
   "metadata": {},
   "outputs": [],
   "source": [
    "# Configure gmaps\n",
    "gmaps.configure(api_key=g_key)"
   ]
  },
  {
   "cell_type": "markdown",
   "metadata": {},
   "source": [
    "## From your `Vacation_Search` folder from Deliverable 2, import the `WeatherPy_vacation.csv` file as a DataFrame named `vacation_df`"
   ]
  },
  {
   "cell_type": "code",
   "execution_count": 3,
   "metadata": {},
   "outputs": [
    {
     "data": {
      "text/html": [
       "<div>\n",
       "<style scoped>\n",
       "    .dataframe tbody tr th:only-of-type {\n",
       "        vertical-align: middle;\n",
       "    }\n",
       "\n",
       "    .dataframe tbody tr th {\n",
       "        vertical-align: top;\n",
       "    }\n",
       "\n",
       "    .dataframe thead th {\n",
       "        text-align: right;\n",
       "    }\n",
       "</style>\n",
       "<table border=\"1\" class=\"dataframe\">\n",
       "  <thead>\n",
       "    <tr style=\"text-align: right;\">\n",
       "      <th></th>\n",
       "      <th>City_ID</th>\n",
       "      <th>City</th>\n",
       "      <th>Country</th>\n",
       "      <th>Max Temp</th>\n",
       "      <th>Weather Description</th>\n",
       "      <th>Lat</th>\n",
       "      <th>Lng</th>\n",
       "      <th>Hotel Name</th>\n",
       "    </tr>\n",
       "  </thead>\n",
       "  <tbody>\n",
       "    <tr>\n",
       "      <th>0</th>\n",
       "      <td>0</td>\n",
       "      <td>Mayo</td>\n",
       "      <td>US</td>\n",
       "      <td>55.94</td>\n",
       "      <td>overcast clouds</td>\n",
       "      <td>38.8876</td>\n",
       "      <td>-76.5119</td>\n",
       "      <td>Resorts Resource Group International</td>\n",
       "    </tr>\n",
       "    <tr>\n",
       "      <th>1</th>\n",
       "      <td>1</td>\n",
       "      <td>Puerto Ayora</td>\n",
       "      <td>EC</td>\n",
       "      <td>64.54</td>\n",
       "      <td>overcast clouds</td>\n",
       "      <td>-0.7393</td>\n",
       "      <td>-90.3518</td>\n",
       "      <td>Finch Bay Galapagos Hotel</td>\n",
       "    </tr>\n",
       "    <tr>\n",
       "      <th>2</th>\n",
       "      <td>2</td>\n",
       "      <td>Sur</td>\n",
       "      <td>OM</td>\n",
       "      <td>86.16</td>\n",
       "      <td>clear sky</td>\n",
       "      <td>22.5667</td>\n",
       "      <td>59.5289</td>\n",
       "      <td>Sur Plaza Hotel</td>\n",
       "    </tr>\n",
       "    <tr>\n",
       "      <th>3</th>\n",
       "      <td>3</td>\n",
       "      <td>Tierranueva</td>\n",
       "      <td>MX</td>\n",
       "      <td>61.45</td>\n",
       "      <td>overcast clouds</td>\n",
       "      <td>21.6833</td>\n",
       "      <td>-100.5667</td>\n",
       "      <td>La nueva patria y libertad</td>\n",
       "    </tr>\n",
       "    <tr>\n",
       "      <th>4</th>\n",
       "      <td>4</td>\n",
       "      <td>Port Alfred</td>\n",
       "      <td>ZA</td>\n",
       "      <td>76.53</td>\n",
       "      <td>broken clouds</td>\n",
       "      <td>-33.5906</td>\n",
       "      <td>26.8910</td>\n",
       "      <td>The Halyards Hotel &amp; Spa</td>\n",
       "    </tr>\n",
       "    <tr>\n",
       "      <th>...</th>\n",
       "      <td>...</td>\n",
       "      <td>...</td>\n",
       "      <td>...</td>\n",
       "      <td>...</td>\n",
       "      <td>...</td>\n",
       "      <td>...</td>\n",
       "      <td>...</td>\n",
       "      <td>...</td>\n",
       "    </tr>\n",
       "    <tr>\n",
       "      <th>481</th>\n",
       "      <td>654</td>\n",
       "      <td>Ibiruba</td>\n",
       "      <td>BR</td>\n",
       "      <td>63.30</td>\n",
       "      <td>broken clouds</td>\n",
       "      <td>-28.6275</td>\n",
       "      <td>-53.0897</td>\n",
       "      <td>Hotel Pitangueira - O melhor serviço pelo meno...</td>\n",
       "    </tr>\n",
       "    <tr>\n",
       "      <th>482</th>\n",
       "      <td>655</td>\n",
       "      <td>Bhitarwar</td>\n",
       "      <td>IN</td>\n",
       "      <td>86.83</td>\n",
       "      <td>clear sky</td>\n",
       "      <td>25.8000</td>\n",
       "      <td>78.1167</td>\n",
       "      <td>Rahman master</td>\n",
       "    </tr>\n",
       "    <tr>\n",
       "      <th>483</th>\n",
       "      <td>657</td>\n",
       "      <td>Havelock</td>\n",
       "      <td>US</td>\n",
       "      <td>62.55</td>\n",
       "      <td>mist</td>\n",
       "      <td>34.8791</td>\n",
       "      <td>-76.9013</td>\n",
       "      <td>Sherwood Motel</td>\n",
       "    </tr>\n",
       "    <tr>\n",
       "      <th>484</th>\n",
       "      <td>658</td>\n",
       "      <td>Warragul</td>\n",
       "      <td>AU</td>\n",
       "      <td>53.44</td>\n",
       "      <td>moderate rain</td>\n",
       "      <td>-38.1667</td>\n",
       "      <td>145.9333</td>\n",
       "      <td>Comfort Inn &amp; Suites Warragul</td>\n",
       "    </tr>\n",
       "    <tr>\n",
       "      <th>485</th>\n",
       "      <td>660</td>\n",
       "      <td>Shevchenkove</td>\n",
       "      <td>UA</td>\n",
       "      <td>51.31</td>\n",
       "      <td>overcast clouds</td>\n",
       "      <td>49.6959</td>\n",
       "      <td>37.1735</td>\n",
       "      <td>Hotelʹ Komunalʹnoho Pidpryyemstva Akva</td>\n",
       "    </tr>\n",
       "  </tbody>\n",
       "</table>\n",
       "<p>486 rows × 8 columns</p>\n",
       "</div>"
      ],
      "text/plain": [
       "     City_ID          City Country  Max Temp Weather Description      Lat  \\\n",
       "0          0          Mayo      US     55.94     overcast clouds  38.8876   \n",
       "1          1  Puerto Ayora      EC     64.54     overcast clouds  -0.7393   \n",
       "2          2           Sur      OM     86.16           clear sky  22.5667   \n",
       "3          3   Tierranueva      MX     61.45     overcast clouds  21.6833   \n",
       "4          4   Port Alfred      ZA     76.53       broken clouds -33.5906   \n",
       "..       ...           ...     ...       ...                 ...      ...   \n",
       "481      654       Ibiruba      BR     63.30       broken clouds -28.6275   \n",
       "482      655     Bhitarwar      IN     86.83           clear sky  25.8000   \n",
       "483      657      Havelock      US     62.55                mist  34.8791   \n",
       "484      658      Warragul      AU     53.44       moderate rain -38.1667   \n",
       "485      660  Shevchenkove      UA     51.31     overcast clouds  49.6959   \n",
       "\n",
       "          Lng                                         Hotel Name  \n",
       "0    -76.5119               Resorts Resource Group International  \n",
       "1    -90.3518                          Finch Bay Galapagos Hotel  \n",
       "2     59.5289                                    Sur Plaza Hotel  \n",
       "3   -100.5667                         La nueva patria y libertad  \n",
       "4     26.8910                           The Halyards Hotel & Spa  \n",
       "..        ...                                                ...  \n",
       "481  -53.0897  Hotel Pitangueira - O melhor serviço pelo meno...  \n",
       "482   78.1167                                      Rahman master  \n",
       "483  -76.9013                                     Sherwood Motel  \n",
       "484  145.9333                      Comfort Inn & Suites Warragul  \n",
       "485   37.1735             Hotelʹ Komunalʹnoho Pidpryyemstva Akva  \n",
       "\n",
       "[486 rows x 8 columns]"
      ]
     },
     "execution_count": 3,
     "metadata": {},
     "output_type": "execute_result"
    }
   ],
   "source": [
    "# Read the WeatherPy_vacation.csv into a DataFrame\n",
    "vacation_df = pd.read_csv(\"..\\Vacation_Search\\WeatherPy_vacation.csv\")\n",
    "vacation_df\n",
    "# Display sample data\"\n",
    "# YOUR CODE HERE"
   ]
  },
  {
   "cell_type": "code",
   "execution_count": 4,
   "metadata": {},
   "outputs": [
    {
     "data": {
      "text/html": [
       "<div>\n",
       "<style scoped>\n",
       "    .dataframe tbody tr th:only-of-type {\n",
       "        vertical-align: middle;\n",
       "    }\n",
       "\n",
       "    .dataframe tbody tr th {\n",
       "        vertical-align: top;\n",
       "    }\n",
       "\n",
       "    .dataframe thead th {\n",
       "        text-align: right;\n",
       "    }\n",
       "</style>\n",
       "<table border=\"1\" class=\"dataframe\">\n",
       "  <thead>\n",
       "    <tr style=\"text-align: right;\">\n",
       "      <th></th>\n",
       "      <th>City_ID</th>\n",
       "      <th>City</th>\n",
       "      <th>Country</th>\n",
       "      <th>Max Temp</th>\n",
       "      <th>Weather Description</th>\n",
       "      <th>Lat</th>\n",
       "      <th>Lng</th>\n",
       "      <th>Hotel Name</th>\n",
       "    </tr>\n",
       "  </thead>\n",
       "  <tbody>\n",
       "    <tr>\n",
       "      <th>30</th>\n",
       "      <td>39</td>\n",
       "      <td>Tres Arroyos</td>\n",
       "      <td>AR</td>\n",
       "      <td>55.08</td>\n",
       "      <td>light rain</td>\n",
       "      <td>-38.3739</td>\n",
       "      <td>-60.2798</td>\n",
       "      <td>Habitacion Triple con baño y entrada privada</td>\n",
       "    </tr>\n",
       "    <tr>\n",
       "      <th>79</th>\n",
       "      <td>105</td>\n",
       "      <td>Mar Del Plata</td>\n",
       "      <td>AR</td>\n",
       "      <td>58.08</td>\n",
       "      <td>moderate rain</td>\n",
       "      <td>-38.0023</td>\n",
       "      <td>-57.5575</td>\n",
       "      <td>Gran Hotel Mar del Plata</td>\n",
       "    </tr>\n",
       "    <tr>\n",
       "      <th>127</th>\n",
       "      <td>165</td>\n",
       "      <td>Rawson</td>\n",
       "      <td>AR</td>\n",
       "      <td>49.05</td>\n",
       "      <td>clear sky</td>\n",
       "      <td>-43.3002</td>\n",
       "      <td>-65.1023</td>\n",
       "      <td>Hosteria Sampedro</td>\n",
       "    </tr>\n",
       "    <tr>\n",
       "      <th>314</th>\n",
       "      <td>430</td>\n",
       "      <td>Moron</td>\n",
       "      <td>AR</td>\n",
       "      <td>67.98</td>\n",
       "      <td>broken clouds</td>\n",
       "      <td>-34.6534</td>\n",
       "      <td>-58.6198</td>\n",
       "      <td>Hotel Morón</td>\n",
       "    </tr>\n",
       "    <tr>\n",
       "      <th>342</th>\n",
       "      <td>474</td>\n",
       "      <td>General Pico</td>\n",
       "      <td>AR</td>\n",
       "      <td>59.00</td>\n",
       "      <td>overcast clouds</td>\n",
       "      <td>-35.6566</td>\n",
       "      <td>-63.7568</td>\n",
       "      <td>Euskadi Hotel</td>\n",
       "    </tr>\n",
       "    <tr>\n",
       "      <th>383</th>\n",
       "      <td>530</td>\n",
       "      <td>Necochea</td>\n",
       "      <td>AR</td>\n",
       "      <td>54.36</td>\n",
       "      <td>light rain</td>\n",
       "      <td>-38.5473</td>\n",
       "      <td>-58.7368</td>\n",
       "      <td>dyd -mar Hotel</td>\n",
       "    </tr>\n",
       "    <tr>\n",
       "      <th>422</th>\n",
       "      <td>578</td>\n",
       "      <td>Viedma</td>\n",
       "      <td>AR</td>\n",
       "      <td>52.11</td>\n",
       "      <td>overcast clouds</td>\n",
       "      <td>-40.8135</td>\n",
       "      <td>-62.9967</td>\n",
       "      <td>Hotel Cristal</td>\n",
       "    </tr>\n",
       "  </tbody>\n",
       "</table>\n",
       "</div>"
      ],
      "text/plain": [
       "     City_ID           City Country  Max Temp Weather Description      Lat  \\\n",
       "30        39   Tres Arroyos      AR     55.08          light rain -38.3739   \n",
       "79       105  Mar Del Plata      AR     58.08       moderate rain -38.0023   \n",
       "127      165         Rawson      AR     49.05           clear sky -43.3002   \n",
       "314      430          Moron      AR     67.98       broken clouds -34.6534   \n",
       "342      474   General Pico      AR     59.00     overcast clouds -35.6566   \n",
       "383      530       Necochea      AR     54.36          light rain -38.5473   \n",
       "422      578         Viedma      AR     52.11     overcast clouds -40.8135   \n",
       "\n",
       "         Lng                                    Hotel Name  \n",
       "30  -60.2798  Habitacion Triple con baño y entrada privada  \n",
       "79  -57.5575                      Gran Hotel Mar del Plata  \n",
       "127 -65.1023                             Hosteria Sampedro  \n",
       "314 -58.6198                                   Hotel Morón  \n",
       "342 -63.7568                                 Euskadi Hotel  \n",
       "383 -58.7368                                dyd -mar Hotel  \n",
       "422 -62.9967                                 Hotel Cristal  "
      ]
     },
     "execution_count": 4,
     "metadata": {},
     "output_type": "execute_result"
    }
   ],
   "source": [
    "# Choose 4 cities that a customer might want to visit. The cities should be within the same country\n",
    "cities_to_visit = vacation_df.loc[vacation_df[\"Country\"]==\"AR\"]\n",
    "cities_to_visit"
   ]
  },
  {
   "cell_type": "markdown",
   "metadata": {},
   "source": [
    "#### The cities chosen are: Tres Arroyos, Mar del Plata, General Pico and Necochea"
   ]
  },
  {
   "cell_type": "markdown",
   "metadata": {},
   "source": [
    "**Note:** If the resulting DataFrame is empty, uncomment the following code to load sample data into the `clean_hotel_df`."
   ]
  },
  {
   "cell_type": "markdown",
   "metadata": {
    "tags": []
   },
   "source": [
    "## In this step, you will set-up the pop-up markers. Review the code to create a marker layer map of the vacation search results. This code is the same as in Deliverable 2."
   ]
  },
  {
   "cell_type": "code",
   "execution_count": 5,
   "metadata": {},
   "outputs": [],
   "source": [
    "# Review the formatting template\n",
    "info_box_template = \"\"\"\n",
    "<dl>\n",
    "<dt>Hotel Name</dt><dd>{Hotel Name}</dd>\n",
    "<dt>City</dt><dd>{City}</dd>\n",
    "<dt>Country</dt><dd>{Country}</dd>\n",
    "<dt>Current Weather</dt><dd>{Weather Description} and {Max Temp} °F</dd>\n",
    "</dl>\n",
    "\"\"\"\n",
    "\n",
    "# Get the data from each row and add it to the formatting template and store the data in a list\n",
    "hotel_info = [info_box_template.format(**row) for index, row in cities_to_visit.iterrows()]\n",
    "\n",
    "# Get the latitude and longitude from each row and store in a new DataFrame.\n",
    "locations = cities_to_visit[[\"Lat\", \"Lng\"]]"
   ]
  },
  {
   "cell_type": "code",
   "execution_count": 6,
   "metadata": {},
   "outputs": [
    {
     "data": {
      "application/vnd.jupyter.widget-view+json": {
       "model_id": "b0a2448cf8a64782b48a460e164ae233",
       "version_major": 2,
       "version_minor": 0
      },
      "text/plain": [
       "Figure(layout=FigureLayout(height='420px'))"
      ]
     },
     "metadata": {},
     "output_type": "display_data"
    }
   ],
   "source": [
    "# Add a marker layer for each city to the map.\n",
    "marker_layer = gmaps.marker_layer(locations, info_box_content=hotel_info)\n",
    "fig = gmaps.figure()\n",
    "fig.add_layer(marker_layer)\n",
    "\n",
    "# Display the figure\n",
    "fig"
   ]
  },
  {
   "cell_type": "markdown",
   "metadata": {},
   "source": [
    "## From the vacation search map, *choose four cities* that a customer might want to visit. They should be close together and in the same country."
   ]
  },
  {
   "cell_type": "code",
   "execution_count": 7,
   "metadata": {},
   "outputs": [],
   "source": [
    "# Create DataFrames for each city by filtering the 'vacation_df' using the loc method. \n",
    "# The starting and ending city should be the same city.\n",
    "vacation_start = cities_to_visit.loc[cities_to_visit[\"City\"]==\"Tres Arroyos\"]\n",
    "vacation_end = cities_to_visit.loc[cities_to_visit[\"City\"]==\"Necochea\"]\n",
    "vacation_stop1 = cities_to_visit.loc[cities_to_visit[\"City\"]==\"Mar Del Plata\"]\n",
    "vacation_stop2 = cities_to_visit.loc[cities_to_visit[\"City\"]==\"General Pico\"]\n",
    "vacation_stop3 = cities_to_visit.loc[cities_to_visit[\"City\"]==\"Necochea\"]"
   ]
  },
  {
   "cell_type": "markdown",
   "metadata": {},
   "source": [
    "## Use the `to_numpy()` function and list indexing to write code to retrieve the latitude-longitude pairs as tuples from each city DataFrame."
   ]
  },
  {
   "cell_type": "code",
   "execution_count": 8,
   "metadata": {},
   "outputs": [],
   "source": [
    "# Get the latitude-longitude pairs as tuples from each city DataFrame using the to_numpy function and list indexing.\n",
    "Tres_Arroyos_start = tuple(vacation_start[[\"Lat\", \"Lng\"]].values[0])\n",
    "Necochea_end = tuple(vacation_end [[\"Lat\", \"Lng\"]].values[0])\n",
    "Mar_Del_Plata = tuple(vacation_stop1 [[\"Lat\", \"Lng\"]].values[0])\n",
    "General_Pico = tuple(vacation_stop2 [[\"Lat\", \"Lng\"]].values[0])\n",
    "Necochea = tuple(vacation_stop3 [[\"Lat\", \"Lng\"]].values[0])"
   ]
  },
  {
   "cell_type": "markdown",
   "metadata": {},
   "source": [
    "## Use the [gmaps documentation](https://jupyter-gmaps.readthedocs.io/en/latest/tutorial.html#directions-layer) to create a directions layer map using the variables from the previous step. Where the starting and ending city are the same city, the `waypoints` are the three other cities, and the `travel_mode` is either `\"DRIVING\"`, `\"BICYCLING\"`, or `\"WALKING\"`."
   ]
  },
  {
   "cell_type": "code",
   "execution_count": 9,
   "metadata": {
    "tags": []
   },
   "outputs": [
    {
     "data": {
      "application/vnd.jupyter.widget-view+json": {
       "model_id": "0f4a0b1e84784f969def290adcb75ca7",
       "version_major": 2,
       "version_minor": 0
      },
      "text/plain": [
       "Figure(layout=FigureLayout(height='420px'))"
      ]
     },
     "metadata": {},
     "output_type": "display_data"
    }
   ],
   "source": [
    "# Define a new figure object\n",
    "fig = gmaps.figure()\n",
    "# Create a direction layer map using the start and end latitude-longitude pairs, and stop1, stop2, and stop3 as the waypoints.\n",
    "# The travel_mode should be \"DRIVING\", \"BICYCLING\", or \"WALKING\".\n",
    "Tres_Arroyos2Necochea = gmaps.directions_layer(\n",
    "    Tres_Arroyos_start, Necochea_end, waypoints=[Mar_Del_Plata, General_Pico, Necochea], \n",
    "    travel_mode = \"DRIVING\")\n",
    "# Add the layer to the map\n",
    "fig.add_layer(Tres_Arroyos2Necochea)\n",
    "# Display the map\n",
    "fig"
   ]
  },
  {
   "cell_type": "markdown",
   "metadata": {},
   "source": [
    "## Use the provided `concat()` function code snippet to combine the four separate city DataFrames into one DataFrame."
   ]
  },
  {
   "cell_type": "code",
   "execution_count": 10,
   "metadata": {},
   "outputs": [
    {
     "data": {
      "text/html": [
       "<div>\n",
       "<style scoped>\n",
       "    .dataframe tbody tr th:only-of-type {\n",
       "        vertical-align: middle;\n",
       "    }\n",
       "\n",
       "    .dataframe tbody tr th {\n",
       "        vertical-align: top;\n",
       "    }\n",
       "\n",
       "    .dataframe thead th {\n",
       "        text-align: right;\n",
       "    }\n",
       "</style>\n",
       "<table border=\"1\" class=\"dataframe\">\n",
       "  <thead>\n",
       "    <tr style=\"text-align: right;\">\n",
       "      <th></th>\n",
       "      <th>City_ID</th>\n",
       "      <th>City</th>\n",
       "      <th>Country</th>\n",
       "      <th>Max Temp</th>\n",
       "      <th>Weather Description</th>\n",
       "      <th>Lat</th>\n",
       "      <th>Lng</th>\n",
       "      <th>Hotel Name</th>\n",
       "    </tr>\n",
       "  </thead>\n",
       "  <tbody>\n",
       "    <tr>\n",
       "      <th>0</th>\n",
       "      <td>39</td>\n",
       "      <td>Tres Arroyos</td>\n",
       "      <td>AR</td>\n",
       "      <td>55.08</td>\n",
       "      <td>light rain</td>\n",
       "      <td>-38.3739</td>\n",
       "      <td>-60.2798</td>\n",
       "      <td>Habitacion Triple con baño y entrada privada</td>\n",
       "    </tr>\n",
       "    <tr>\n",
       "      <th>1</th>\n",
       "      <td>105</td>\n",
       "      <td>Mar Del Plata</td>\n",
       "      <td>AR</td>\n",
       "      <td>58.08</td>\n",
       "      <td>moderate rain</td>\n",
       "      <td>-38.0023</td>\n",
       "      <td>-57.5575</td>\n",
       "      <td>Gran Hotel Mar del Plata</td>\n",
       "    </tr>\n",
       "    <tr>\n",
       "      <th>2</th>\n",
       "      <td>474</td>\n",
       "      <td>General Pico</td>\n",
       "      <td>AR</td>\n",
       "      <td>59.00</td>\n",
       "      <td>overcast clouds</td>\n",
       "      <td>-35.6566</td>\n",
       "      <td>-63.7568</td>\n",
       "      <td>Euskadi Hotel</td>\n",
       "    </tr>\n",
       "    <tr>\n",
       "      <th>3</th>\n",
       "      <td>530</td>\n",
       "      <td>Necochea</td>\n",
       "      <td>AR</td>\n",
       "      <td>54.36</td>\n",
       "      <td>light rain</td>\n",
       "      <td>-38.5473</td>\n",
       "      <td>-58.7368</td>\n",
       "      <td>dyd -mar Hotel</td>\n",
       "    </tr>\n",
       "  </tbody>\n",
       "</table>\n",
       "</div>"
      ],
      "text/plain": [
       "   City_ID           City Country  Max Temp Weather Description      Lat  \\\n",
       "0       39   Tres Arroyos      AR     55.08          light rain -38.3739   \n",
       "1      105  Mar Del Plata      AR     58.08       moderate rain -38.0023   \n",
       "2      474   General Pico      AR     59.00     overcast clouds -35.6566   \n",
       "3      530       Necochea      AR     54.36          light rain -38.5473   \n",
       "\n",
       "       Lng                                    Hotel Name  \n",
       "0 -60.2798  Habitacion Triple con baño y entrada privada  \n",
       "1 -57.5575                      Gran Hotel Mar del Plata  \n",
       "2 -63.7568                                 Euskadi Hotel  \n",
       "3 -58.7368                                dyd -mar Hotel  "
      ]
     },
     "execution_count": 10,
     "metadata": {},
     "output_type": "execute_result"
    }
   ],
   "source": [
    "#  Combine the four city DataFrames into one DataFrame using the concat() function.\n",
    "itinerary_df = pd.concat(\n",
    "    [\n",
    "        vacation_start,\n",
    "        vacation_stop1,\n",
    "        vacation_stop2,\n",
    "        vacation_stop3,\n",
    "    ],\n",
    "    ignore_index = True\n",
    ")\n",
    "\n",
    "# Display sample data\n",
    "itinerary_df"
   ]
  },
  {
   "cell_type": "markdown",
   "metadata": {},
   "source": [
    "## Refactor the code from Step 6 to create a new marker layer map of the cities on the travel route."
   ]
  },
  {
   "cell_type": "code",
   "execution_count": 11,
   "metadata": {},
   "outputs": [],
   "source": [
    "# Review the formatting template\n",
    "info_box_template = \"\"\"\n",
    "<dl>\n",
    "<dt>Hotel Name</dt><dd>{Hotel Name}</dd>\n",
    "<dt>City</dt><dd>{City}</dd>\n",
    "<dt>Country</dt><dd>{Country}</dd>\n",
    "<dt>Current Weather</dt><dd>{Weather Description} and {Max Temp} °F</dd>\n",
    "</dl>\n",
    "\"\"\"\n",
    "\n",
    "# Get the data from each row and add it to the formatting template and store the data in a list\n",
    "hotel_info =  [info_box_template.format(**row) for index, row in itinerary_df.iterrows()]\n",
    "\n",
    "# Get the latitude and longitude from each row and store in a new DataFrame.\n",
    "locations = itinerary_df[[\"Lat\",\"Lng\"]]"
   ]
  },
  {
   "cell_type": "code",
   "execution_count": 12,
   "metadata": {
    "scrolled": true
   },
   "outputs": [
    {
     "data": {
      "application/vnd.jupyter.widget-view+json": {
       "model_id": "d6dd270f8b974610aeaacbd83ace222e",
       "version_major": 2,
       "version_minor": 0
      },
      "text/plain": [
       "Figure(layout=FigureLayout(height='420px'))"
      ]
     },
     "metadata": {},
     "output_type": "display_data"
    }
   ],
   "source": [
    "# Add a marker layer for each city to the map.\n",
    "marker_layer = gmaps.marker_layer(locations, info_box_content= hotel_info)\n",
    "\n",
    "# Define a new figure object\n",
    "fig = gmaps.figure()\n",
    "\n",
    "# Add the layer to the map\n",
    "fig.add_layer(marker_layer)\n",
    "\n",
    "# Display the map\n",
    "fig\n"
   ]
  },
  {
   "cell_type": "code",
   "execution_count": null,
   "metadata": {},
   "outputs": [],
   "source": []
  }
 ],
 "metadata": {
  "kernelspec": {
   "display_name": "Python 3 (ipykernel)",
   "language": "python",
   "name": "python3"
  },
  "language_info": {
   "codemirror_mode": {
    "name": "ipython",
    "version": 3
   },
   "file_extension": ".py",
   "mimetype": "text/x-python",
   "name": "python",
   "nbconvert_exporter": "python",
   "pygments_lexer": "ipython3",
   "version": "3.9.12"
  },
  "latex_envs": {
   "LaTeX_envs_menu_present": true,
   "autoclose": false,
   "autocomplete": true,
   "bibliofile": "biblio.bib",
   "cite_by": "apalike",
   "current_citInitial": 1,
   "eqLabelWithNumbers": true,
   "eqNumInitial": 1,
   "hotkeys": {
    "equation": "Ctrl-E",
    "itemize": "Ctrl-I"
   },
   "labels_anchors": false,
   "latex_user_defs": false,
   "report_style_numbering": false,
   "user_envs_cfg": false
  }
 },
 "nbformat": 4,
 "nbformat_minor": 4
}
